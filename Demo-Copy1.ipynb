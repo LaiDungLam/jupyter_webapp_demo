{
 "cells": [
  {
   "cell_type": "code",
   "execution_count": 28,
   "id": "binding-glance",
   "metadata": {},
   "outputs": [],
   "source": [
    "import warnings\n",
    "#warnings.filterwarnings('ignore')\n",
    "import pandas as pd\n",
    "import sqlite3\n",
    "import ipywidgets as widgets\n",
    "from IPython.display import display, clear_output\n",
    "import voila"
   ]
  },
  {
   "cell_type": "code",
   "execution_count": 2,
   "id": "informal-powell",
   "metadata": {},
   "outputs": [],
   "source": [
    "#!jupyter nbextension enable --py widgetsnbextension --sys-prefix\n",
    "#!jupyter serverextension enable voila --sys-prefix"
   ]
  },
  {
   "cell_type": "code",
   "execution_count": 30,
   "id": "ed2215ae",
   "metadata": {},
   "outputs": [],
   "source": [
    "names = pd.read_excel('LabResultsAll_Apr21-2.xlsx', nrows=1)\n",
    "names  = names.columns.tolist()\n",
    "names = names[1:]"
   ]
  },
  {
   "cell_type": "code",
   "execution_count": 33,
   "id": "b4105c6d",
   "metadata": {},
   "outputs": [
    {
     "data": {
      "application/vnd.jupyter.widget-view+json": {
       "model_id": "5cab8ac1cf884c7587219322689f5eff",
       "version_major": 2,
       "version_minor": 0
      },
      "text/plain": [
       "VBox(children=(HBox(children=(Text(value='', description='Patient Name:'), Button(description='Enter Patient N…"
      ]
     },
     "metadata": {},
     "output_type": "display_data"
    }
   ],
   "source": [
    "import warnings\n",
    "warnings.filterwarnings('ignore')\n",
    "import pandas as pd\n",
    "import sqlite3\n",
    "import ipywidgets as widgets\n",
    "from IPython.display import display, clear_output\n",
    "\n",
    "text_input = widgets.Text(description=\"Patient Name:\")\n",
    "\n",
    "enter_button = widgets.Button(\n",
    "                description='Enter Patient Name',\n",
    "                tooltip='Enter',\n",
    "                style={'description_width': 'initial'}\n",
    "            )\n",
    "\n",
    "output = widgets.Output()\n",
    "# define a callback function to be called when the button is clicked\n",
    "def on_button_click(event):\n",
    "    patient_name = text_input.value\n",
    "    ## get the SQL \n",
    "    try: \n",
    "        conn = sqlite3.connect('mydatabase.db')\n",
    "        # Create a cursor object\n",
    "        cursor = conn.cursor()\n",
    "        # Execute the SELECT statement to retrieve the first 10 rows\n",
    "        cursor.execute(\"SELECT * FROM lab_results where column1 like '%\" + patient_name + \"%' \")\n",
    "        # Fetch the results and print them out\n",
    "        results = cursor.fetchall()\n",
    "        #cursor.close()\n",
    "        #conn.close()\n",
    "\n",
    "        data = pd.DataFrame({'lab': names, 'result': results[0]})\n",
    "        data = data[data.result.apply(lambda x: len(str(x)) > 1)].reset_index().iloc[1:, 1:].reset_index(drop=True)\n",
    "        with output:\n",
    "            clear_output()\n",
    "            print(data)\n",
    "    except: \n",
    "        print('this is the error')\n",
    "# attach the callback function to the button's on_click event\n",
    "\n",
    "enter_button.on_click(on_button_click)\n",
    "\n",
    "vbox = widgets.HBox([text_input, enter_button])\n",
    "page = widgets.VBox([vbox, output])\n",
    "display(page)"
   ]
  },
  {
   "cell_type": "code",
   "execution_count": 36,
   "id": "2449c48d",
   "metadata": {},
   "outputs": [
    {
     "name": "stdout",
     "output_type": "stream",
     "text": [
      "Note: you may need to restart the kernel to use updated packages.\n"
     ]
    }
   ],
   "source": [
    "pip freeze > requirements.txt"
   ]
  },
  {
   "cell_type": "code",
   "execution_count": 39,
   "id": "9d76cfe6",
   "metadata": {},
   "outputs": [
    {
     "ename": "SyntaxError",
     "evalue": "invalid syntax (3766029880.py, line 1)",
     "output_type": "error",
     "traceback": [
      "\u001b[1;36m  Cell \u001b[1;32mIn[39], line 1\u001b[1;36m\u001b[0m\n\u001b[1;33m    $ git add notebook.ipynb\u001b[0m\n\u001b[1;37m    ^\u001b[0m\n\u001b[1;31mSyntaxError\u001b[0m\u001b[1;31m:\u001b[0m invalid syntax\n"
     ]
    }
   ],
   "source": [
   
   ]
  },
  {
   "cell_type": "code",
   "execution_count": null,
   "id": "9c4ee5ea",
   "metadata": {},
   "outputs": [],
   "source": []
  }
 ],
 "metadata": {
  "kernelspec": {
   "display_name": "Python 3 (ipykernel)",
   "language": "python",
   "name": "python3"
  },
  "language_info": {
   "codemirror_mode": {
    "name": "ipython",
    "version": 3
   },
   "file_extension": ".py",
   "mimetype": "text/x-python",
   "name": "python",
   "nbconvert_exporter": "python",
   "pygments_lexer": "ipython3",
   "version": "3.11.3"
  }
 },
 "nbformat": 4,
 "nbformat_minor": 5
}
